{
 "cells": [
  {
   "cell_type": "markdown",
   "id": "4bef1b96-52fc-42fd-86c2-59343596ef9e",
   "metadata": {},
   "source": [
    "# Effect of Primary Beam in the HI Power Spectrum\n",
    "\n",
    "The delay transformed visibility data is in the unit of JyHz. The resulting delay power spectrum can be converted to brightness temperature power spectrum using the following equation (see [1304.4991](https://arxiv.org/pdf/1304.4991.pdf) for definitions and derivations):\n",
    "\n",
    "$$\n",
    "P_{\\rm T}(k) = \\frac{X^2 Y}{\\Omega_{\\rm PP}B}\\bigg(\\frac{\\lambda^2}{2k_{\\rm B}}\\bigg)^2P_{\\rm d}(u,v,\\eta)\n",
    "$$\n",
    "\n",
    "The quantity we are interested in here is $\\Omega_{\\rm pp}$:\n",
    "$$\n",
    "\\Omega_{\\rm pp} = \\int {\\rm d}l{\\rm d}m |A(l,m)|^2\n",
    "$$\n",
    "\n",
    "In this notebook, we are aiming to showcase some popular primary beam models for MeerKAT dishes and quantify the effect of the primary beam."
   ]
  },
  {
   "cell_type": "code",
   "execution_count": 37,
   "id": "5947e65e-16f2-4bcd-af08-d9f3d77d7430",
   "metadata": {},
   "outputs": [],
   "source": [
    "import numpy as np\n",
    "import matplotlib.pyplot as plt\n",
    "from astropy import units, constants\n",
    "import sys\n",
    "sys.path.append('/idia/projects/mightee/zchen/hiimtool/src/')\n",
    "from hiimtool.hiimvis import  Specs\n",
    "from astropy.cosmology import Planck18_arXiv_v2 as Planck18\n",
    "from scipy.special import j1\n",
    "from astropy.io import fits"
   ]
  },
  {
   "cell_type": "markdown",
   "id": "abea61d1-eace-4ef6-87df-7359542e1a53",
   "metadata": {},
   "source": [
    "Following [2011.10815](https://arxiv.org/pdf/2011.10815.pdf), we adopt the following primary beam models. The FWHM of the beam is set to be:\n",
    "\n",
    "$$\n",
    "{\\Delta \\theta} = 1.155 \\frac{\\lambda}{\\rm D}\n",
    "$$\n",
    "\n",
    "where $\\lambda$ is the observing frequency and D is the dish diameter. The coefficient 1.155 is taken at our observing frequency around $z\\sim 0.32$. The shape of the beam can be approximated by several models, such as Gaussian, Jinc and Cosine.\n",
    "\n",
    "The Gaussian beam has the form:\n",
    "\n",
    "$$\n",
    "A_{\\rm G} = {\\rm Exp}\\big[-4{\\rm ln}2\\frac{\\theta^2}{\\Delta \\theta^2}\\big]\n",
    "$$\n",
    "\n",
    "The Jinc beam has the form:\n",
    "\n",
    "$$\n",
    "A_{\\rm J} = \\Big[2{\\rm jinc}\\big(\\pi\\theta/\\Delta\\theta\\big)\\Big]^2\n",
    "$$\n",
    "\n",
    "The Cosine beam has the form:\n",
    "\n",
    "$$\n",
    "A_{\\rm C} = \\Big[\\frac{{\\rm cos}(1.189\\theta\\pi/\\Delta\\theta)}{1-4(1.189\\theta/\\Delta\\theta)^2}\\Big]^2\n",
    "$$\n",
    "\n",
    "For comparison we also show an unphysical beam model with the beam following the jinc function instead of the jinc function squared. The Fourier transform of this beam is a top hat function. In real space it has:\n",
    "\n",
    "$$\n",
    "A_{\\rm T} = 2{\\rm jinc}\\Big(\\frac{\\pi\\theta}{\\sqrt{2}\\Delta\\theta}\\Big)\n",
    "$$"
   ]
  },
  {
   "cell_type": "code",
   "execution_count": 3,
   "id": "a1860479-794a-41d3-a2bc-58d20a667456",
   "metadata": {},
   "outputs": [],
   "source": [
    "sp = Specs(cosmo = Planck18,\n",
    "           freq_start_hz = 1054535156.25,\n",
    "           num_channels = 220,\n",
    "           deltav_ch = 208984.375,\n",
    "           FWHM_ref = 83.94201153142113/60*np.pi/180,\n",
    "           FWHM_freq_ref = 1050e6,)\n",
    "\n",
    "def cosbeam(theta,fwhm=1.155*sp.lambda_0()/13.5):\n",
    "    result = (np.cos(1.189*theta*np.pi/fwhm)/(1-4*(1.189*theta/fwhm)**2))**2\n",
    "    return result\n",
    "\n",
    "def gaussbeam(theta,fwhm=1.155*sp.lambda_0()/13.5):\n",
    "    result = np.exp(-4*np.log(2)*theta**2/fwhm**2)\n",
    "    return result\n",
    "\n",
    "def jincbeam(theta,fwhm=1.155*sp.lambda_0()/13.5):\n",
    "    inarr = np.pi*theta/fwhm\n",
    "    result = (np.nan_to_num((2*(j1(inarr)/inarr))**2)*(inarr!=0)+1*(inarr==0))\n",
    "    return result\n",
    "\n",
    "def tophatbeam(theta,fwhm=1.155*sp.lambda_0()/13.5):\n",
    "    inarr = np.pi*theta/fwhm*np.sqrt(2)\n",
    "    result = (np.nan_to_num((2*(j1(inarr)/inarr)))*(inarr!=0)+1*(inarr==0))\n",
    "    return result"
   ]
  },
  {
   "cell_type": "code",
   "execution_count": 36,
   "id": "e2142162-7e5a-463a-9c6e-5653fd90d394",
   "metadata": {},
   "outputs": [
    {
     "data": {
      "text/plain": [
       "1076932906.1499856"
      ]
     },
     "execution_count": 36,
     "metadata": {},
     "output_type": "execute_result"
    }
   ],
   "source": [
    "sp.freq_0()"
   ]
  },
  {
   "cell_type": "code",
   "execution_count": 4,
   "id": "11013c1f-9dea-4c4b-a3a8-4c1bcaaf1b8a",
   "metadata": {},
   "outputs": [],
   "source": [
    "fwhm = 1.155*sp.lambda_0()/13.5"
   ]
  },
  {
   "cell_type": "code",
   "execution_count": 8,
   "id": "7d0937a1-aca6-49f9-b11e-e17dd453c21d",
   "metadata": {},
   "outputs": [],
   "source": [
    "thetaarr = np.linspace(0,5.0,100)*np.pi/180"
   ]
  },
  {
   "cell_type": "code",
   "execution_count": 10,
   "id": "48b5ad3b-8986-4f71-96f3-23dbb2075b5e",
   "metadata": {},
   "outputs": [
    {
     "name": "stderr",
     "output_type": "stream",
     "text": [
      "/anaconda3/lib/python3.6/site-packages/IPython/kernel/__main__.py:18: RuntimeWarning: invalid value encountered in true_divide\n",
      "/anaconda3/lib/python3.6/site-packages/IPython/kernel/__main__.py:23: RuntimeWarning: invalid value encountered in true_divide\n"
     ]
    },
    {
     "data": {
      "text/plain": [
       "<matplotlib.legend.Legend at 0x7f0064646470>"
      ]
     },
     "execution_count": 10,
     "metadata": {},
     "output_type": "execute_result"
    },
    {
     "data": {
      "image/png": "[encoded data removed]",
      "text/plain": [
       "<Figure size 432x288 with 1 Axes>"
      ]
     },
     "metadata": {
      "needs_background": "light"
     },
     "output_type": "display_data"
    }
   ],
   "source": [
    "plt.plot(thetaarr*180/np.pi,gaussbeam(thetaarr),label='Gaussian')\n",
    "plt.plot(thetaarr*180/np.pi,cosbeam(thetaarr),label='Cos')\n",
    "plt.plot(thetaarr*180/np.pi,jincbeam(thetaarr),label='Jinc^2')\n",
    "plt.plot(thetaarr*180/np.pi,jincsqbeam(thetaarr),label='Jinc')\n",
    "plt.xlabel('theta [deg]')\n",
    "plt.ylabel('Beam')\n",
    "plt.xlim(0,5)\n",
    "plt.legend()"
   ]
  },
  {
   "cell_type": "markdown",
   "id": "7049294b-8ba8-4c47-8947-e65b3951be95",
   "metadata": {},
   "source": [
    "The primary beam area, defined as $\\Omega = \\int {\\rm dldm} A(l,m)$, can be calculated:"
   ]
  },
  {
   "cell_type": "code",
   "execution_count": 20,
   "id": "3206cc92-b825-42ee-8b8a-d3e6588339c3",
   "metadata": {},
   "outputs": [],
   "source": [
    "def calomega(beam):\n",
    "    xarr = np.linspace(-10.0,10.0,1000)*np.pi/180\n",
    "    angres = xarr[1]-xarr[0]\n",
    "    area = np.sum(beam(np.sqrt(xarr[:,None]**2+xarr[None,:]**2)))*angres**2\n",
    "    return area\n",
    "\n",
    "def calomegapp(beam):\n",
    "    xarr = np.linspace(-10.0,10.0,1000)*np.pi/180\n",
    "    angres = xarr[1]-xarr[0]\n",
    "    area = np.sum(beam(np.sqrt(xarr[:,None]**2+xarr[None,:]**2))**2)*angres**2\n",
    "    return area"
   ]
  },
  {
   "cell_type": "code",
   "execution_count": 21,
   "id": "cda3de15-beea-4a63-bddf-ea9c9c13f870",
   "metadata": {},
   "outputs": [
    {
     "data": {
      "text/plain": [
       "(0.0006427246600055928,\n",
       " 0.0006011555652779599,\n",
       " 0.000704162037521882,\n",
       " 0.0003541795948055588)"
      ]
     },
     "execution_count": 21,
     "metadata": {},
     "output_type": "execute_result"
    }
   ],
   "source": [
    "omega_g,omega_c,omega_j,omega_t = calomega(gaussbeam),calomega(cosbeam),calomega(jincbeam),calomega(tophatbeam)\n",
    "omega_g,omega_c,omega_j,omega_t"
   ]
  },
  {
   "cell_type": "markdown",
   "id": "7a426c8a-91fe-42bf-9ec1-80b698f62765",
   "metadata": {},
   "source": [
    "The power squared beam area is:"
   ]
  },
  {
   "cell_type": "code",
   "execution_count": 22,
   "id": "4e204c99-e6ff-49d8-839c-6c4794439f60",
   "metadata": {},
   "outputs": [
    {
     "data": {
      "text/plain": [
       "(0.0003213623300027963,\n",
       " 0.0003143476195062225,\n",
       " 0.0003319473340903254,\n",
       " 0.00035473767125035634)"
      ]
     },
     "execution_count": 22,
     "metadata": {},
     "output_type": "execute_result"
    }
   ],
   "source": [
    "omegapp_g,omegapp_c,omegapp_j,omegapp_t = calomegapp(gaussbeam),calomegapp(cosbeam),calomegapp(jincbeam),calomegapp(tophatbeam)\n",
    "omegapp_g,omegapp_c,omegapp_j,omegapp_t"
   ]
  },
  {
   "cell_type": "markdown",
   "id": "c8d42adc-00e2-4df0-b5b7-e0572102907e",
   "metadata": {},
   "source": [
    "Note that for quite different FoV from these models, the power squared beam areas actually agree quite well. One can see this in Fourier space:"
   ]
  },
  {
   "cell_type": "code",
   "execution_count": 27,
   "id": "16995b08-ce62-4699-b7ec-f69c5d96f242",
   "metadata": {},
   "outputs": [],
   "source": [
    "xarr = np.linspace(-15.0,15.0,2000)*np.pi/180\n",
    "kxarr = np.fft.fftfreq(len(xarr),d=xarr[1]-xarr[0])\n",
    "kfield = np.sqrt(kxarr[:,None]**2+kxarr[None,:]**2)\n",
    "kthetaedges = np.linspace(0,kfield.max()/50,40)[1:]\n",
    "k1dcen = np.diff(kthetaedges)/2+kthetaedges[:-1]\n",
    "indx = (kfield[:,:,None]>kthetaedges[None,None,:-1])*(kfield[:,:,None]<=kthetaedges[None,None,1:])\n",
    "def f_beam(beam):\n",
    "    beam_f = np.fft.fft2(beam(np.sqrt(xarr[:,None]**2+xarr[None,:]**2)))\n",
    "    beam_f /= np.abs(beam_f).max()\n",
    "    beam_f = np.abs(beam_f)\n",
    "    beam_f1d = (np.sum(beam_f[:,:,None]*indx,axis=(0,1))/np.sum(indx,axis=(0,1)))\n",
    "    return beam_f1d"
   ]
  },
  {
   "cell_type": "code",
   "execution_count": 32,
   "id": "4216d2ed-ed24-4f36-83ec-9cb102bf749e",
   "metadata": {},
   "outputs": [],
   "source": [
    "beamf_g,beamf_c,beamf_j,beamf_t = f_beam(gaussbeam),f_beam(cosbeam),f_beam(jincbeam),f_beam(tophatbeam)"
   ]
  },
  {
   "cell_type": "code",
   "execution_count": 34,
   "id": "1f1da655-2bdc-49d9-a98a-f6fb22b7df50",
   "metadata": {},
   "outputs": [
    {
     "data": {
      "text/plain": [
       "<matplotlib.legend.Legend at 0x7f00646085c0>"
      ]
     },
     "execution_count": 34,
     "metadata": {},
     "output_type": "execute_result"
    },
    {
     "data": {
      "image/png": "[encoded data removed]",
      "text/plain": [
       "<Figure size 432x288 with 1 Axes>"
      ]
     },
     "metadata": {
      "needs_background": "light"
     },
     "output_type": "display_data"
    }
   ],
   "source": [
    "plt.plot(np.append(0,k1dcen),np.append(1,beamf_g),label='Gaussian')\n",
    "plt.plot(np.append(0,k1dcen),np.append(1,beamf_c),label='Cos')\n",
    "plt.plot(np.append(0,k1dcen),np.append(1,beamf_j),label='Jinc^2')\n",
    "plt.plot(np.append(0,k1dcen),np.append(1,beamf_t),label='Jinc')\n",
    "plt.xlabel(r'$1/\\theta$')\n",
    "plt.ylabel('Fourier Beam')\n",
    "plt.xlim(0,40)\n",
    "plt.legend()"
   ]
  },
  {
   "cell_type": "markdown",
   "id": "b863ab22-5175-4b36-9f57-c812ea72e4de",
   "metadata": {},
   "source": [
    "You can see although the top hat has much less area, the power square of it in Fourier space is much larger due to the step function shape. Since the \"normal beam area\" is much more widely used, sometimes a factor is introduced so that:\n",
    "\n",
    "$$\n",
    "\\Omega_{\\rm PP} = F_{\\rm PP}*\\Omega\n",
    "$$"
   ]
  },
  {
   "cell_type": "code",
   "execution_count": 35,
   "id": "8f677fa5-8283-4814-9466-d6e7b2c6ac31",
   "metadata": {},
   "outputs": [
    {
     "data": {
      "text/plain": [
       "(0.49999999999999983,\n",
       " 0.5229056132265459,\n",
       " 0.47140759711859653,\n",
       " 1.0015756877386004)"
      ]
     },
     "execution_count": 35,
     "metadata": {},
     "output_type": "execute_result"
    }
   ],
   "source": [
    "(omegapp_g/omega_g,omegapp_c/omega_c,omegapp_j/omega_j,omegapp_t/omega_t)"
   ]
  },
  {
   "cell_type": "markdown",
   "id": "ff4bdd77-b9d3-4a25-be98-03675081dffd",
   "metadata": {},
   "source": [
    "One can see that, top hat gives a factor of 1 as expected since $1^2=1$. For Gaussian beam one can analytically calculate this factor to be 2. Most of the beam models for dish arrays are similar to Gaussian in Fourier space, and thus we expect this factor to be $\\sim 2$.\n",
    "\n",
    "Using [eidos](https://github.com/ratt-ru/eidos) to simulate the stokes I beam at the central frequency of 1077MHz (this is done by `eidos -p 2048 -d 10 -f 1077 -S I`) we have:"
   ]
  },
  {
   "cell_type": "code",
   "execution_count": 41,
   "id": "6f50bb0d-95e5-4b47-a099-04c53884c3fe",
   "metadata": {},
   "outputs": [],
   "source": [
    "hdul = fits.open('/idia/projects/mightee/zchen/primary_beam_mh_1077MHz_10deg_I_re.fits')\n",
    "beam_e = hdul[0].data[0,0,0]\n",
    "beam_e = beam_e.astype('float32')\n",
    "hdul.close()"
   ]
  },
  {
   "cell_type": "code",
   "execution_count": 43,
   "id": "247381f7-219c-4a16-969d-201f2ae8c71f",
   "metadata": {},
   "outputs": [],
   "source": [
    "angres = 10*np.pi/180/2048"
   ]
  },
  {
   "cell_type": "code",
   "execution_count": 46,
   "id": "331ec662-0eac-41e0-a5e5-42dd581f713e",
   "metadata": {},
   "outputs": [],
   "source": [
    "omega_e = np.sum(beam_e)*angres**2\n",
    "omegapp_e = np.sum(beam_e**2)*angres**2"
   ]
  },
  {
   "cell_type": "code",
   "execution_count": 47,
   "id": "31e3400e-d504-409d-ad4b-4987d2c691ee",
   "metadata": {},
   "outputs": [
    {
     "data": {
      "text/plain": [
       "(0.0006427246600055928,\n",
       " 0.0006011555652779599,\n",
       " 0.000704162037521882,\n",
       " 0.0006038430494780259)"
      ]
     },
     "execution_count": 47,
     "metadata": {},
     "output_type": "execute_result"
    }
   ],
   "source": [
    "omega_g,omega_c,omega_j,omega_e"
   ]
  },
  {
   "cell_type": "code",
   "execution_count": 48,
   "id": "ac6759a9-ad9c-476d-8497-b7ded67fddc6",
   "metadata": {},
   "outputs": [
    {
     "data": {
      "text/plain": [
       "(0.0003213623300027963,\n",
       " 0.0003143476195062225,\n",
       " 0.0003319473340903254,\n",
       " 0.0003114669668997865)"
      ]
     },
     "execution_count": 48,
     "metadata": {},
     "output_type": "execute_result"
    }
   ],
   "source": [
    "omegapp_g,omegapp_c,omegapp_j,omegapp_e"
   ]
  },
  {
   "cell_type": "markdown",
   "id": "c1685d67-a570-4603-ae3a-95003d6e9c98",
   "metadata": {},
   "source": [
    "The Cosine beam describes the feature of the primary beam the best among all the models. If we compare this power squared beam model with assuming an apeture efficiency of 0.7:"
   ]
  },
  {
   "cell_type": "code",
   "execution_count": 49,
   "id": "d3f98ffb-24f5-4aab-a1c7-0ca596c6815b",
   "metadata": {},
   "outputs": [],
   "source": [
    "Ae = 0.7* np.pi* ((13.5/2.)**2)  # Effective area\n",
    "omega_ae = sp.lambda_0()**2/Ae"
   ]
  },
  {
   "cell_type": "code",
   "execution_count": 52,
   "id": "31db1172-7c2b-4920-bd05-9ba16fae15ba",
   "metadata": {},
   "outputs": [
    {
     "data": {
      "text/plain": [
       "(0.0007734079875666655, 0.0003114669668997865)"
      ]
     },
     "execution_count": 52,
     "metadata": {},
     "output_type": "execute_result"
    }
   ],
   "source": [
    "omega_ae,omegapp_e"
   ]
  },
  {
   "cell_type": "markdown",
   "id": "f1b9a581-28e1-4ff1-ac4c-d1339d207fb8",
   "metadata": {},
   "source": [
    "One can see it's roughly a factor of 2.5 off"
   ]
  }
 ],
 "metadata": {
  "kernelspec": {
   "display_name": "ASTRO-PY3",
   "language": "python",
   "name": "astro-py3"
  },
  "language_info": {
   "codemirror_mode": {
    "name": "ipython",
    "version": 3
   },
   "file_extension": ".py",
   "mimetype": "text/x-python",
   "name": "python",
   "nbconvert_exporter": "python",
   "pygments_lexer": "ipython3",
   "version": "3.6.8"
  }
 },
 "nbformat": 4,
 "nbformat_minor": 5
}
